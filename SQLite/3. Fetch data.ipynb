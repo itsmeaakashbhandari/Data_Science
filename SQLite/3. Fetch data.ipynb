{
 "cells": [
  {
   "cell_type": "code",
   "execution_count": 1,
   "id": "473112f8",
   "metadata": {},
   "outputs": [
    {
     "data": {
      "text/plain": [
       "<sqlite3.Connection at 0x24953bf9a80>"
      ]
     },
     "execution_count": 1,
     "metadata": {},
     "output_type": "execute_result"
    }
   ],
   "source": [
    "import sqlite3\n",
    "db=sqlite3.connect('School.sqlite')\n",
    "db"
   ]
  },
  {
   "cell_type": "code",
   "execution_count": 2,
   "id": "e4941520",
   "metadata": {},
   "outputs": [
    {
     "data": {
      "text/plain": [
       "<sqlite3.Cursor at 0x24953c6d8f0>"
      ]
     },
     "execution_count": 2,
     "metadata": {},
     "output_type": "execute_result"
    }
   ],
   "source": [
    "cur=db.cursor()\n",
    "cur"
   ]
  },
  {
   "cell_type": "code",
   "execution_count": 3,
   "id": "f6bb1cfb",
   "metadata": {},
   "outputs": [
    {
     "data": {
      "text/plain": [
       "<sqlite3.Cursor at 0x24953c6d8f0>"
      ]
     },
     "execution_count": 3,
     "metadata": {},
     "output_type": "execute_result"
    }
   ],
   "source": [
    "cur.execute('Select * from Student')"
   ]
  },
  {
   "cell_type": "code",
   "execution_count": 5,
   "id": "b1ac5728",
   "metadata": {},
   "outputs": [],
   "source": [
    "# One way to fetch\n",
    "for row in cur:\n",
    "    print(row)"
   ]
  },
  {
   "cell_type": "code",
   "execution_count": 7,
   "id": "cd18c81c",
   "metadata": {},
   "outputs": [
    {
     "data": {
      "text/plain": [
       "(0, 101, 'Aman', 30, 'Test')"
      ]
     },
     "execution_count": 7,
     "metadata": {},
     "output_type": "execute_result"
    }
   ],
   "source": [
    "#FETCHONE()- Inbuilt function for fetching 1 row of the data.  \n",
    "cur.execute('Select * from Student')\n",
    "cur.fetchone()"
   ]
  },
  {
   "cell_type": "code",
   "execution_count": 9,
   "id": "7b20f01e",
   "metadata": {},
   "outputs": [
    {
     "name": "stdout",
     "output_type": "stream",
     "text": [
      "(0, 101, 'Aman', 30, 'Test')\n",
      "(1, 102, 'Amit', 20, 'Test')\n"
     ]
    }
   ],
   "source": [
    "cur.execute('Select * from Student')\n",
    "print(cur.fetchone()) #ROW 1\n",
    "print(cur.fetchone()) #ROW 2"
   ]
  },
  {
   "cell_type": "code",
   "execution_count": 11,
   "id": "7fed683e",
   "metadata": {},
   "outputs": [
    {
     "name": "stdout",
     "output_type": "stream",
     "text": [
      "[(0, 101, 'Aman', 30, 'Test'), (1, 102, 'Amit', 20, 'Test'), (2, 103, 'Mohit', 50, 'Test')]\n"
     ]
    }
   ],
   "source": [
    "#FETCHMANY() - Inbuilt function for fetching N number of data. and result returned as a list.\n",
    "cur.execute('Select * from Student')\n",
    "print(cur.fetchmany(3)) "
   ]
  },
  {
   "cell_type": "code",
   "execution_count": 12,
   "id": "453b63a1",
   "metadata": {},
   "outputs": [
    {
     "name": "stdout",
     "output_type": "stream",
     "text": [
      "[(0, 101, 'Aman', 30, 'Test')]\n"
     ]
    }
   ],
   "source": [
    "cur.execute('Select * from Student')\n",
    "print(cur.fetchmany()) "
   ]
  },
  {
   "cell_type": "code",
   "execution_count": 14,
   "id": "9bbc640c",
   "metadata": {},
   "outputs": [
    {
     "data": {
      "text/plain": [
       "[(0, 101, 'Aman', 30, 'Test'),\n",
       " (1, 102, 'Amit', 20, 'Test'),\n",
       " (2, 103, 'Mohit', 50, 'Test'),\n",
       " (3, 104, 'Nikhil', 30, 'Test'),\n",
       " (4, 105, 'Nidhi', 30, 'Test'),\n",
       " (5, 106, 'Manisha', 30, 'Test'),\n",
       " (6, 107, 'Ankush', 30, 'Test')]"
      ]
     },
     "execution_count": 14,
     "metadata": {},
     "output_type": "execute_result"
    }
   ],
   "source": [
    "#FETCHALL- For fetching all rows.\n",
    "cur.execute('Select * from Student')\n",
    "ans=cur.fetchall()\n",
    "ans"
   ]
  },
  {
   "cell_type": "code",
   "execution_count": 16,
   "id": "0d4c5398",
   "metadata": {},
   "outputs": [
    {
     "name": "stdout",
     "output_type": "stream",
     "text": [
      "[(3, 104, 'Nikhil', 30, 'Test'), (4, 105, 'Nidhi', 30, 'Test'), (5, 106, 'Manisha', 30, 'Test'), (6, 107, 'Ankush', 30, 'Test')]\n"
     ]
    }
   ],
   "source": [
    "cur.execute('Select * from Student where RollNumber >103')\n",
    "print(cur.fetchall())"
   ]
  },
  {
   "cell_type": "code",
   "execution_count": 18,
   "id": "31d24296",
   "metadata": {},
   "outputs": [
    {
     "name": "stdout",
     "output_type": "stream",
     "text": [
      "[(0, 101, 'Aman', 30, 'Test'), (1, 102, 'Amit', 20, 'Test'), (6, 107, 'Ankush', 30, 'Test')]\n"
     ]
    }
   ],
   "source": [
    "cur.execute('Select * from Student where Name like \"A%\"')\n",
    "print(cur.fetchall())"
   ]
  },
  {
   "cell_type": "code",
   "execution_count": null,
   "id": "ac8dcac4",
   "metadata": {},
   "outputs": [],
   "source": []
  }
 ],
 "metadata": {
  "kernelspec": {
   "display_name": "Python 3 (ipykernel)",
   "language": "python",
   "name": "python3"
  },
  "language_info": {
   "codemirror_mode": {
    "name": "ipython",
    "version": 3
   },
   "file_extension": ".py",
   "mimetype": "text/x-python",
   "name": "python",
   "nbconvert_exporter": "python",
   "pygments_lexer": "ipython3",
   "version": "3.9.7"
  }
 },
 "nbformat": 4,
 "nbformat_minor": 5
}
