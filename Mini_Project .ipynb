{
 "cells": [
  {
   "cell_type": "markdown",
   "id": "cf679653",
   "metadata": {},
   "source": [
    "## To add two rows (killed + wound) in a data set (Terrorism)"
   ]
  },
  {
   "cell_type": "code",
   "execution_count": 49,
   "id": "d26156eb",
   "metadata": {},
   "outputs": [
    {
     "name": "stdout",
     "output_type": "stream",
     "text": [
      "[1 0 1 ... 0 0 0]\n",
      "935736\n"
     ]
    }
   ],
   "source": [
    "import numpy as np\n",
    "import csv\n",
    "file=open('Datasets/terrorismData.csv',encoding='utf-8')\n",
    "data=csv.DictReader(file, skipinitialspace=True)\n",
    "\n",
    "killed=[]\n",
    "wounded=[]\n",
    "country=[]\n",
    "\n",
    "for row in data:\n",
    "    #add data in new lists\n",
    "    killed.append(row['Killed'])\n",
    "    wounded.append(row['Wounded'])\n",
    "    country.append(row['Country'])\n",
    "    \n",
    "#converting lists into array\n",
    "np_killed=np.array(killed)\n",
    "np_wounded=np.array(wounded)\n",
    "\n",
    "#replacing missing value to 0. because missing values cant be able to operate further.\n",
    "np_killed[np_killed==''] = '0.0'\n",
    "np_wounded[np_wounded==''] = '0.0'\n",
    "\n",
    "#as we can see that now the elements of array are in the form of string so to make further \n",
    "#mathematical operation we have to make it integer.\n",
    "#as we also know that string can't be convert directly to ineteger.\n",
    "#so we have to first convert it into float then we'll convert it into integer.\n",
    "#converting string into float\n",
    "\n",
    "np_killed=np.array(np_killed, dtype=float)\n",
    "np_wounded=np.array(np_wounded, dtype=float)\n",
    "\n",
    "killed_wounded= np_killed+np_wounded\n",
    "#converting float into integer\n",
    "killed_wounded=np.array(killed_wounded,dtype=int)\n",
    "print(killed_wounded)\n",
    "print(sum(killed_wounded))"
   ]
  },
  {
   "cell_type": "markdown",
   "id": "a9d44cf0",
   "metadata": {},
   "source": [
    "### Print killed and wounded in Country = India"
   ]
  },
  {
   "cell_type": "code",
   "execution_count": 48,
   "id": "116dfcd5",
   "metadata": {},
   "outputs": [
    {
     "name": "stdout",
     "output_type": "stream",
     "text": [
      "[ 0  4  0 ... 11  0  0]\n",
      "48321\n"
     ]
    }
   ],
   "source": [
    "np_country=np.array(country)\n",
    "bool_arr=np_country=='India'\n",
    "ans=killed_wounded[bool_arr]\n",
    "print(ans)\n",
    "print(sum(ans))"
   ]
  },
  {
   "cell_type": "code",
   "execution_count": null,
   "id": "3b6fc714",
   "metadata": {},
   "outputs": [],
   "source": []
  }
 ],
 "metadata": {
  "kernelspec": {
   "display_name": "Python 3 (ipykernel)",
   "language": "python",
   "name": "python3"
  },
  "language_info": {
   "codemirror_mode": {
    "name": "ipython",
    "version": 3
   },
   "file_extension": ".py",
   "mimetype": "text/x-python",
   "name": "python",
   "nbconvert_exporter": "python",
   "pygments_lexer": "ipython3",
   "version": "3.9.7"
  }
 },
 "nbformat": 4,
 "nbformat_minor": 5
}
